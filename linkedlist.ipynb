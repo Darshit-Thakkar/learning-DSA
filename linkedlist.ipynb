{
 "cells": [
  {
   "cell_type": "code",
   "execution_count": 33,
   "metadata": {},
   "outputs": [],
   "source": [
    "class node:\n",
    "    def __init__(self,value):\n",
    "        self.data = value \n",
    "        self.next = None"
   ]
  },
  {
   "cell_type": "code",
   "execution_count": 60,
   "metadata": {},
   "outputs": [],
   "source": [
    "class linkedlist:\n",
    "    \n",
    "    # 1\n",
    "    def __init__(self):\n",
    "        # head is use to swap the values\n",
    "        self.head = None\n",
    "        self.n = 0 \n",
    "    \n",
    "    # 2    \n",
    "    def __len__(self):\n",
    "        return self.n\n",
    "    \n",
    "    # 3\n",
    "    def insert_head(self,value):\n",
    "        # new node \n",
    "        new_node = node(value)\n",
    "        \n",
    "        # create connection\n",
    "        new_node.next = self.head\n",
    "        \n",
    "        # reassign head\n",
    "        self.head = new_node ##\n",
    "        \n",
    "        # increment\n",
    "        self.n += 1  \n",
    "    \n",
    "    def __str__(self):\n",
    "        curr = self.head ##\n",
    "        \n",
    "        result = ''\n",
    "        \n",
    "        while curr != None:\n",
    "            result = result + str(curr.data) + '->'\n",
    "            curr = curr.next\n",
    "        return result[:-2]\n",
    "    \n",
    "    def append(self,value):\n",
    "        new_node = node(value)\n",
    "        \n",
    "        if self.head == None:\n",
    "            self.head = new_node\n",
    "            self.n += 1\n",
    "            return\n",
    "        \n",
    "        curr = self.head # self.head is use for the start travers from the start!!\n",
    "        \n",
    "        while curr.next != None:\n",
    "            curr = curr.next\n",
    "            \n",
    "        curr.next = new_node\n",
    "        self.n += 1\n",
    "        \n",
    "    def insert_after(self,after,value):\n",
    "        \n",
    "        new_node = node(value)\n",
    "        curr = self.head\n",
    "        \n",
    "        while curr != None:\n",
    "            if curr.data == after:\n",
    "                break\n",
    "            curr = curr.next\n",
    "        \n",
    "        if curr != None:\n",
    "            new_node.next = curr.next\n",
    "            curr.next = new_node\n",
    "            self.n += 1\n",
    "        else:\n",
    "            return \"List is Empty!!!!! Add a Items.\"\n",
    "        \n",
    "    def clear(self):\n",
    "        self.head = None\n",
    "        self.n = 0\n",
    "        \n",
    "    def delete_head(self):\n",
    "        if self.head == None:\n",
    "            return 'Empty Linkedlist'\n",
    "        \n",
    "        self.head = self.head.next\n",
    "        self.n -= 1 \n",
    "        \n",
    "    def pop(self):\n",
    "        \n",
    "        if self.head == None:\n",
    "            return 'Empty Linkedlist'\n",
    "        \n",
    "        curr = self.head \n",
    "        \n",
    "        if curr.next == None:\n",
    "            return self.delete_head()\n",
    "            \n",
    "        while curr.next.next != None:\n",
    "            curr = curr.next\n",
    "        \n",
    "        curr.next = None\n",
    "        self.n -= 1\n",
    "        \n",
    "    def remove(self,value):\n",
    "        if self.head == None:\n",
    "            return 'Empty ll'\n",
    "        \n",
    "        if self.head.data == value:\n",
    "            return self.delete_head()\n",
    "        \n",
    "        curr = self.head\n",
    "        \n",
    "        while curr.next != None:\n",
    "            if curr.next.data == value:\n",
    "                break\n",
    "            curr = curr.next\n",
    "        \n",
    "        if curr.next ==None:\n",
    "            return 'Not Found '\n",
    "        else:\n",
    "            curr.next = curr.next.next\n",
    "            \n",
    "        self.n -= 1    \n",
    "        \n",
    "    def search(self, item):\n",
    "        if self.head == None:  \n",
    "            return 'list is empty'\n",
    "        \n",
    "        curr = self.head\n",
    "        pos = 0\n",
    "        \n",
    "        while curr != None:\n",
    "            if curr.data == item:  \n",
    "                return pos\n",
    "            curr = curr.next\n",
    "            pos += 1\n",
    "        \n",
    "        return 'Not Found'\n",
    "    \n",
    "    def __getitem__(self,index):\n",
    "        curr = self.head\n",
    "        pos = 0\n",
    "        \n",
    "        while curr != None:\n",
    "            if pos == index:  \n",
    "                return curr.data\n",
    "            curr = curr.next\n",
    "            pos += 1\n",
    "        return 'Index Error'\n",
    "    \n",
    "    def max(self):\n",
    "        \n",
    "        if self.head is None:\n",
    "            return 'empty list'\n",
    "        \n",
    "        max_value = self.head.data\n",
    "        curr = self.head.next\n",
    "\n",
    "        while curr:\n",
    "            if curr.data > max_value:\n",
    "                max_value = curr.data\n",
    "            curr = curr.next\n",
    "        \n",
    "        return f\"{max_value} is the maximum value.\"\n",
    "    \n",
    "    def odd_sum(self):\n",
    "        tmp = self.head\n",
    "        odd_num = 0\n",
    "        \n",
    "        while tmp != None:\n",
    "            if tmp.data %2 != 0:\n",
    "                odd_num += tmp.data\n",
    "                \n",
    "            tmp = tmp.next\n",
    "        print(odd_num)\n",
    "        \n",
    "    def reverse_list(self):\n",
    "        prev_node = None\n",
    "        curr_node = self.head\n",
    "        while curr_node != None:\n",
    "            next_node = curr_node.next\n",
    "            curr_node.next = prev_node\n",
    "            prev_node = curr_node\n",
    "            curr_node = next_node\n",
    "        self.head = prev_node"
   ]
  },
  {
   "cell_type": "code",
   "execution_count": 61,
   "metadata": {},
   "outputs": [],
   "source": [
    "l = linkedlist()"
   ]
  },
  {
   "cell_type": "code",
   "execution_count": 62,
   "metadata": {},
   "outputs": [],
   "source": [
    "l.insert_head(4)\n",
    "l.insert_head(3)\n",
    "l.insert_head(2)\n",
    "l.insert_head(1)"
   ]
  },
  {
   "cell_type": "code",
   "execution_count": 63,
   "metadata": {},
   "outputs": [],
   "source": [
    "l.append(5)"
   ]
  },
  {
   "cell_type": "code",
   "execution_count": 66,
   "metadata": {},
   "outputs": [
    {
     "name": "stdout",
     "output_type": "stream",
     "text": [
      "5->4->3->2->1\n"
     ]
    }
   ],
   "source": [
    "print(l)"
   ]
  },
  {
   "cell_type": "code",
   "execution_count": 65,
   "metadata": {},
   "outputs": [],
   "source": [
    "l.reverse_list()"
   ]
  },
  {
   "cell_type": "code",
   "execution_count": 53,
   "metadata": {},
   "outputs": [
    {
     "name": "stdout",
     "output_type": "stream",
     "text": [
      "4\n"
     ]
    }
   ],
   "source": [
    "l.odd_sum()"
   ]
  },
  {
   "cell_type": "code",
   "execution_count": null,
   "metadata": {},
   "outputs": [],
   "source": [
    "l.max()"
   ]
  },
  {
   "cell_type": "code",
   "execution_count": null,
   "metadata": {},
   "outputs": [],
   "source": [
    "l[10]"
   ]
  },
  {
   "cell_type": "code",
   "execution_count": null,
   "metadata": {},
   "outputs": [],
   "source": [
    "l.search(4)"
   ]
  },
  {
   "cell_type": "code",
   "execution_count": 29,
   "metadata": {},
   "outputs": [],
   "source": [
    "l.remove(4)"
   ]
  },
  {
   "cell_type": "code",
   "execution_count": 6,
   "metadata": {},
   "outputs": [],
   "source": [
    "l.pop()"
   ]
  },
  {
   "cell_type": "code",
   "execution_count": 22,
   "metadata": {},
   "outputs": [],
   "source": [
    "l.clear()"
   ]
  },
  {
   "cell_type": "code",
   "execution_count": null,
   "metadata": {},
   "outputs": [],
   "source": [
    "l.delete_head()"
   ]
  },
  {
   "cell_type": "code",
   "execution_count": null,
   "metadata": {},
   "outputs": [],
   "source": [
    "len(l)"
   ]
  },
  {
   "cell_type": "code",
   "execution_count": 10,
   "metadata": {},
   "outputs": [],
   "source": [
    "l.insert_after(5,2)"
   ]
  },
  {
   "cell_type": "code",
   "execution_count": null,
   "metadata": {},
   "outputs": [],
   "source": []
  },
  {
   "cell_type": "code",
   "execution_count": null,
   "metadata": {},
   "outputs": [],
   "source": []
  }
 ],
 "metadata": {
  "kernelspec": {
   "display_name": "Python 3",
   "language": "python",
   "name": "python3"
  },
  "language_info": {
   "codemirror_mode": {
    "name": "ipython",
    "version": 3
   },
   "file_extension": ".py",
   "mimetype": "text/x-python",
   "name": "python",
   "nbconvert_exporter": "python",
   "pygments_lexer": "ipython3",
   "version": "3.12.5"
  }
 },
 "nbformat": 4,
 "nbformat_minor": 2
}
